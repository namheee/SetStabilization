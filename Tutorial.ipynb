{
 "cells": [
  {
   "cell_type": "markdown",
   "id": "ecf3ae49-27d0-4ba8-94b1-3a89ed42993e",
   "metadata": {},
   "source": [
    "# mainSimulation"
   ]
  },
  {
   "cell_type": "code",
   "execution_count": 1,
   "id": "3f9104d4-5646-493d-809b-98c363fbff44",
   "metadata": {},
   "outputs": [
    {
     "name": "stdout",
     "output_type": "stream",
     "text": [
      "Matched? True\n",
      "/script/boolsim/network/n10toy2_Network.bnet\n",
      "Cluster# 2 [1 0 0]\n"
     ]
    }
   ],
   "source": [
    "import os\n",
    "import pickle\n",
    "import numpy as np\n",
    "import itertools\n",
    "import pandas as pd\n",
    "from setMain import model2attBSIM, main4_updated, dict2df\n",
    "import time\n",
    "\n",
    "checked = []; noresult = []; noresultP = [];\n",
    "networks = ['n10toy_Network']\n",
    "\n",
    "for networkName in networks:\n",
    "    model_file = '/example/' +networkName+'.bnet'  \n",
    "    simulationPickle = '/example/' +networkName+'.pickle' \n",
    "\n",
    "    start = time.time()\n",
    "    str_steadyO, D_listO, U_listO, desiredO, undesiredO, phenotypeNodeO = model2attBSIM(model_file, simulationPickle, n_clusters=2, pThres=1)\n",
    "    \n",
    "    # User defined (example) =============================\n",
    "    # desiredO = ['**111*00*1', '0011100001']\n",
    "    # undesiredO = set(str_steadyO) - set(desiredO)\n",
    "    # phenotypeNodeO = ['~x07','x03']\n",
    "    # ====================================================\n",
    "    if len(phenotypeNodeO)<2 : \n",
    "        noresultP.append(networkName)\n",
    "        continue\n",
    "\n",
    "\n",
    "    # main algorithm\n",
    "    V_idx, allresult, allremained = main4_updated(model_file, desiredO, undesiredO, phenotypeNodeO, oriN=0, remainedThres=10)\n",
    "\n",
    "    renamed = {v:k for k,v in V_idx.items()}\n",
    "    mergedRDF = dict2df(renamed, allresult, [])\n",
    "    \n",
    "    # iteratively apply main algorithm \n",
    "    for candk, netI in allremained.items():\n",
    "        plusCtrl = candk.split(':')\n",
    "        while 1:\n",
    "            model_file, _, desired, undesired, phenotypeNode = netI[0]\n",
    "            if len(phenotypeNode)<2 : break\n",
    "            _, allresult2, allremained2 = main4_updated(model_file, desired, undesired, phenotypeNode, oriN=int(len(V_idx)/2), remainedThres=10)\n",
    "            rdf2 = dict2df(renamed, allresult2, plusCtrl)\n",
    "            mergedRDF = pd.concat([mergedRDF,rdf2])\n",
    "            if len(allremained2) == 0 :break\n",
    "            else: # next remained network\n",
    "                nextk = list(allremained2.items())[0][0].split(':')\n",
    "                model_file, _, desired, undesired, phenotypeNode = list(allremained2.items())[0][1][0]\n",
    "                plusCtrl += nextk\n",
    "            \n",
    "\n",
    "\n",
    "    if mergedRDF.shape[0] == 0:\n",
    "        print('NO RESULT')\n",
    "        noresult.append(networkName)\n",
    "    else:\n",
    "        mergedRDF = mergedRDF.loc[[len(x)!=0 for x in mergedRDF.solution],:]\n",
    "        # save result ===================================================\n",
    "        # savedir = '/script/set_result/'\n",
    "        # with open(savedir+networkName+'_result.pickle','wb') as f:\n",
    "        #     pickle.dump((networkName, str_steadyO, D_listO, U_listO, desiredO, undesiredO, phenotypeNodeO, mergedRDF), f)\n",
    "        # ===============================================================\n",
    "        min_sols = np.min([np.min([len(y) for y in x]) for x in mergedRDF.solution])\n",
    "        mergedRDF2 = mergedRDF.iloc[np.where([np.min([len(y) for y in x]) == min_sols for x in mergedRDF.solution])[0],:]\n",
    "        numD_ = max(mergedRDF2.num_D) # the number of desired states by control target \n",
    "        ctrl_ = max(mergedRDF2.ctrl) # predetermined control target\n",
    "        sol_ = set(itertools.chain(*mergedRDF2.solution))\n",
    "\n",
    "        checked.append((networkName, numD_, sol_, np.min([len(x) for x in sol_]), time.time()-start))"
   ]
  },
  {
   "cell_type": "code",
   "execution_count": null,
   "id": "f86eaf7c-4374-4454-94a7-aa002ccf5554",
   "metadata": {},
   "outputs": [],
   "source": []
  },
  {
   "cell_type": "code",
   "execution_count": 2,
   "id": "55812958",
   "metadata": {},
   "outputs": [
    {
     "data": {
      "text/html": [
       "<div>\n",
       "<style scoped>\n",
       "    .dataframe tbody tr th:only-of-type {\n",
       "        vertical-align: middle;\n",
       "    }\n",
       "\n",
       "    .dataframe tbody tr th {\n",
       "        vertical-align: top;\n",
       "    }\n",
       "\n",
       "    .dataframe thead th {\n",
       "        text-align: right;\n",
       "    }\n",
       "</style>\n",
       "<table border=\"1\" class=\"dataframe\">\n",
       "  <thead>\n",
       "    <tr style=\"text-align: right;\">\n",
       "      <th></th>\n",
       "      <th>numD_</th>\n",
       "      <th>sol_</th>\n",
       "      <th>Size</th>\n",
       "      <th>Time</th>\n",
       "    </tr>\n",
       "    <tr>\n",
       "      <th>0</th>\n",
       "      <th></th>\n",
       "      <th></th>\n",
       "      <th></th>\n",
       "      <th></th>\n",
       "    </tr>\n",
       "  </thead>\n",
       "  <tbody>\n",
       "    <tr>\n",
       "      <th>n10toy2_Network</th>\n",
       "      <td>2</td>\n",
       "      <td>{(~x01, ~x04), (~x01, x02)}</td>\n",
       "      <td>2</td>\n",
       "      <td>0.095129</td>\n",
       "    </tr>\n",
       "  </tbody>\n",
       "</table>\n",
       "</div>"
      ],
      "text/plain": [
       "                 numD_                         sol_  Size      Time\n",
       "0                                                                  \n",
       "n10toy2_Network      2  {(~x01, ~x04), (~x01, x02)}     2  0.095129"
      ]
     },
     "execution_count": 2,
     "metadata": {},
     "output_type": "execute_result"
    }
   ],
   "source": [
    "# Output ==========================================================\n",
    "# numD_ : the number of induced desired states after applying the control inputs \n",
    "# sol_ : control inputs\n",
    "# Size : the number of elements in control inputs\n",
    "# Time : computational time\n",
    "# =================================================================\n",
    "\n",
    "checked2 = pd.DataFrame(checked)\n",
    "checked2.index = checked2.iloc[:,0]\n",
    "checked2.columns = ['networkName', 'numD_', 'sol_', 'Size','Time']\n",
    "checked2.loc[:,['numD_', 'sol_', 'Size','Time']]"
   ]
  },
  {
   "cell_type": "code",
   "execution_count": null,
   "id": "03c29389-72a0-4346-ac74-a68655708762",
   "metadata": {},
   "outputs": [],
   "source": []
  }
 ],
 "metadata": {
  "kernelspec": {
   "display_name": "Python [conda env:base] *",
   "language": "python",
   "name": "conda-base-py"
  },
  "language_info": {
   "codemirror_mode": {
    "name": "ipython",
    "version": 3
   },
   "file_extension": ".py",
   "mimetype": "text/x-python",
   "name": "python",
   "nbconvert_exporter": "python",
   "pygments_lexer": "ipython3",
   "version": "3.12.2"
  }
 },
 "nbformat": 4,
 "nbformat_minor": 5
}
